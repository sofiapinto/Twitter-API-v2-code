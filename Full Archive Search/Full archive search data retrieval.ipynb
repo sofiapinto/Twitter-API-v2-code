{
 "cells": [
  {
   "cell_type": "markdown",
   "metadata": {},
   "source": [
    "## *Purpose*\n",
    "\n",
    "The purpose of this jupyter notebook is to retrieve **historical data** from **Twitter** using the **GET /2/tweets/search/all endpoint**. Important notes about the code and some helpful links can be found at the end of this notebook. By using this notebook one can understand the data retrieval process step by step. Otherwise, the .py script does the job, and just needs to be run in the command line or setting up a cronjob (if applicable).\n",
    "\n",
    "Note that in order to use this specific endpoint you need to have **Academic Research Access**: https://developer.twitter.com/en/products/twitter-api/academic-research"
   ]
  },
  {
   "cell_type": "markdown",
   "metadata": {},
   "source": [
    "## package imports\n",
    "All the necessary packages to retrieve data from twitter API GET /2/tweets/search/all endpoint."
   ]
  },
  {
   "cell_type": "code",
   "execution_count": 1,
   "metadata": {},
   "outputs": [],
   "source": [
    "import requests\n",
    "import json\n",
    "import time\n",
    "import random"
   ]
  },
  {
   "cell_type": "code",
   "execution_count": null,
   "metadata": {},
   "outputs": [],
   "source": []
  },
  {
   "cell_type": "markdown",
   "metadata": {},
   "source": [
    "## Credentials\n",
    "\n",
    "Twitter API credentials. You just need to replace the XXX by your bearer token."
   ]
  },
  {
   "cell_type": "code",
   "execution_count": 2,
   "metadata": {},
   "outputs": [],
   "source": [
    "bearer_token = \"XXX\""
   ]
  },
  {
   "cell_type": "code",
   "execution_count": null,
   "metadata": {},
   "outputs": [],
   "source": []
  },
  {
   "cell_type": "markdown",
   "metadata": {},
   "source": [
    "## Full archive search endpoint URL"
   ]
  },
  {
   "cell_type": "code",
   "execution_count": 4,
   "metadata": {},
   "outputs": [],
   "source": [
    "search_url = \"https://api.twitter.com/2/tweets/search/all\""
   ]
  },
  {
   "cell_type": "code",
   "execution_count": null,
   "metadata": {},
   "outputs": [],
   "source": []
  },
  {
   "attachments": {
    "image.png": {
     "image/png": "[encoded data removed]"
    }
   },
   "cell_type": "markdown",
   "metadata": {},
   "source": [
    "## Rules/queries for data extraction\n",
    "This json file contains the rule(s) for the data extraction.\n",
    "\n",
    "### Example file of how to write rules:\n",
    "This would be an example of retrieving geolocated tweets outside the US about knife crime.\n",
    "\n",
    "![image.png](attachment:image.png)\n",
    "\n",
    "#### First rule explained:\n",
    "\n",
    "Retrieving tweets that comply with the following 2 constraints:\n",
    "- Contain at least one of the expressions: \"knife crime\",  \"knife attack\"\n",
    "- Are in english, are not retweets, geolocated outside of the US\n",
    "\n",
    "#### Third rule explained:\n",
    "\n",
    "Retrieving tweets that comply with the following 3 constraints:\n",
    "- Contain keyword stab (if stabbed appears instead of stab, the tweet is not retrieved - as it is a tokenized match)\n",
    "- Contains at least one of the following keywords: dead, death, wound or injury\n",
    "- Are in english, are not retweets, geolocated outside of the US"
   ]
  },
  {
   "cell_type": "code",
   "execution_count": 5,
   "metadata": {},
   "outputs": [],
   "source": [
    "with open('rules.json', 'r') as f:\n",
    "    queries = json.load(f)"
   ]
  },
  {
   "cell_type": "code",
   "execution_count": null,
   "metadata": {},
   "outputs": [],
   "source": []
  },
  {
   "cell_type": "markdown",
   "metadata": {},
   "source": [
    "## Functions"
   ]
  },
  {
   "cell_type": "markdown",
   "metadata": {},
   "source": [
    "Function to create headers using the bearer token:"
   ]
  },
  {
   "cell_type": "code",
   "execution_count": 6,
   "metadata": {},
   "outputs": [],
   "source": [
    "def create_headers(bearer_token):\n",
    "    headers = {\"Authorization\": \"Bearer {}\".format(bearer_token)}\n",
    "    return headers"
   ]
  },
  {
   "cell_type": "markdown",
   "metadata": {},
   "source": [
    "Sometimes when connecting to the endpoint there are errors. If the response code is 200, all is good. If the response yields a different status code then there was an error. I am printing these errors, but you can comment the print statements if you are not interested in knowing which type of error was yielded. When there is an error I make my program sleep between 5 and 60 seconds before trying again.\n",
    "\n",
    "More about response codes [here].\n",
    "\n",
    "[here]: https://developer.twitter.com/ja/docs/basics/response-codes"
   ]
  },
  {
   "cell_type": "code",
   "execution_count": 7,
   "metadata": {},
   "outputs": [],
   "source": [
    "def connect_to_endpoint(url, headers, params):\n",
    "    response = requests.request(\"GET\", url, headers=headers, params=params)\n",
    "    if response.status_code != 200:\n",
    "        print(response.status_code)\n",
    "        rn = random.randint(5,60)\n",
    "        print('Sleeping '+str(rn)+' seconds...')\n",
    "        time.sleep(rn)\n",
    "        return connect_to_endpoint(url, headers, params)\n",
    "    return response.json()"
   ]
  },
  {
   "cell_type": "markdown",
   "metadata": {},
   "source": [
    "There are a million ways of storing the data one retrieves from the API. I have decided to store json dictionaries *data*, *users*, *tweets*, *places*, *errors* separately. I store the data retrieved from the endpoint separately by query and with a maximum of 25 pages with 100 instances each, so there is a file number associated with each json saved:"
   ]
  },
  {
   "cell_type": "code",
   "execution_count": 8,
   "metadata": {},
   "outputs": [],
   "source": [
    "def transform_JSON_response(json, data, users, tweets, places, errors):\n",
    "    data = data + json['data']\n",
    "    users = users + json['includes']['users']\n",
    "    \n",
    "    if 'tweets' in json['includes'].keys():\n",
    "        tweets = tweets + json['includes']['tweets']\n",
    "    \n",
    "    if 'places' in json['includes'].keys():\n",
    "        places = places + json['includes']['places']\n",
    "    \n",
    "    if 'errors' in json.keys():\n",
    "        errors = errors + json['errors']\n",
    "        \n",
    "    return data, users, tweets, places, errors"
   ]
  },
  {
   "cell_type": "code",
   "execution_count": 9,
   "metadata": {},
   "outputs": [],
   "source": [
    "def save_data(data, users, tweets, places, errors, query, file):\n",
    "    with open('./data/data_query'+str(query)+'_file'+str(file)+'.json','w', encoding='utf8') as tf:\n",
    "        json.dump(data, tf, indent = 4, ensure_ascii = False)\n",
    "\n",
    "    with open('./data/users_query'+str(query)+'_file'+str(file)+'.json','w', encoding='utf8') as tf:\n",
    "        json.dump(users, tf, indent = 4, ensure_ascii = False)\n",
    "    \n",
    "    with open('./data/tweets_query'+str(query)+'_file'+str(file)+'.json','w', encoding='utf8') as tf:\n",
    "        json.dump(tweets, tf, indent = 4, ensure_ascii = False)\n",
    "\n",
    "    with open('./data/places_query'+str(query)+'_file'+str(file)+'.json','w', encoding='utf8') as tf:\n",
    "        json.dump(places, tf, indent = 4, ensure_ascii = False)\n",
    "\n",
    "    with open('./data/errors_query'+str(query)+'_file'+str(file)+'.json','w', encoding='utf8') as tf:\n",
    "        json.dump(errors, tf, indent = 4, ensure_ascii = False)"
   ]
  },
  {
   "cell_type": "markdown",
   "metadata": {},
   "source": [
    "Function to reset lists to empty:"
   ]
  },
  {
   "cell_type": "code",
   "execution_count": 10,
   "metadata": {},
   "outputs": [],
   "source": [
    "def reset_lists():\n",
    "    return [], [], [], [], []"
   ]
  },
  {
   "cell_type": "code",
   "execution_count": null,
   "metadata": {},
   "outputs": [],
   "source": []
  },
  {
   "cell_type": "markdown",
   "metadata": {},
   "source": [
    "## Retrieving data from API"
   ]
  },
  {
   "cell_type": "markdown",
   "metadata": {},
   "source": [
    "Headers:"
   ]
  },
  {
   "cell_type": "code",
   "execution_count": 11,
   "metadata": {},
   "outputs": [],
   "source": [
    "headers = create_headers(bearer_token)"
   ]
  },
  {
   "cell_type": "markdown",
   "metadata": {},
   "source": [
    "Dates and times to cover (in UTC time):\n",
    "\n",
    "*One just needs to set this according to the time range needed.*\n"
   ]
  },
  {
   "cell_type": "code",
   "execution_count": 12,
   "metadata": {},
   "outputs": [],
   "source": [
    "datetime_start = \"2020-01-01T00:00:00Z\"\n",
    "datetime_end = \"2020-01-02T23:59:59Z\""
   ]
  },
  {
   "cell_type": "markdown",
   "metadata": {},
   "source": [
    "Retrieving and saving tweets:"
   ]
  },
  {
   "cell_type": "code",
   "execution_count": 13,
   "metadata": {},
   "outputs": [
    {
     "name": "stdout",
     "output_type": "stream",
     "text": [
      "Finished query 0\n",
      "Finished query 1\n",
      "Finished query 2\n"
     ]
    }
   ],
   "source": [
    "for i in range(len(queries['rules'])):\n",
    "    #reset lists to empty\n",
    "    list_data, list_includes_users, list_includes_tweets, list_includes_places, list_errors = reset_lists()\n",
    "\n",
    "    #set page and file to 1\n",
    "    page = 1\n",
    "    file = 1\n",
    "\n",
    "    #define query parameters depending on query and start and end datetimes\n",
    "    query_params = {'query': queries['rules'][i]['value'],\n",
    "        'tweet.fields': 'id,text,author_id,context_annotations,conversation_id,created_at,entities,geo,in_reply_to_user_id,lang,public_metrics,referenced_tweets,reply_settings,source',\n",
    "        'user.fields':'id,name,username,created_at,description,entities,location,public_metrics,url,verified',\n",
    "        'place.fields':'full_name,id,contained_within,country,country_code,geo,name,place_type',\n",
    "        'expansions':'author_id,entities.mentions.username,geo.place_id,in_reply_to_user_id,referenced_tweets.id,referenced_tweets.id.author_id',\n",
    "        'start_time':datetime_start,\n",
    "        'end_time':datetime_end,\n",
    "        'max_results':100\n",
    "       }\n",
    "\n",
    "    #getting first page of tweets\n",
    "    json_response = connect_to_endpoint(search_url, headers, query_params)\n",
    "\n",
    "    #sleep for 3.2 seconds not to surpass the rate limit\n",
    "    time.sleep(3.2)\n",
    "\n",
    "    if 'data' in json_response:\n",
    "        #updating lists with new data\n",
    "        list_data, list_includes_users, list_includes_tweets, list_includes_places, list_errors = transform_JSON_response(json_response, list_data, list_includes_users, list_includes_tweets, list_includes_places, list_errors)\n",
    "\n",
    "\n",
    "    #if there are more tweets then the meta field will have a next token key-pair\n",
    "    while 'next_token' in json_response['meta']:\n",
    "        #updating the query parameters to specify the page, using the next token\n",
    "        query_params['next_token'] = json_response['meta']['next_token']\n",
    "\n",
    "        #getting next page of tweets\n",
    "        json_response = connect_to_endpoint(search_url, headers, query_params)\n",
    "\n",
    "        #sleep for 3.2 seconds not to surpass the rate limit\n",
    "        time.sleep(3.2)\n",
    "\n",
    "\n",
    "        if 'data' in json_response:\n",
    "            #updating lists with new data\n",
    "            list_data, list_includes_users, list_includes_tweets, list_includes_places, list_errors = transform_JSON_response(json_response, list_data, list_includes_users, list_includes_tweets, list_includes_places, list_errors)\n",
    "\n",
    "        #update page number\n",
    "        page = page + 1\n",
    "\n",
    "\n",
    "        #if we get to the 25th page, we store data and reset the lists to empty\n",
    "        #so that each one of the json files is not very big\n",
    "        if page % 25 == 0:\n",
    "            print(str(page)+' pages')\n",
    "            save_data(list_data, list_includes_users, list_includes_tweets, list_includes_places, list_errors, i, file)\n",
    "            list_data, list_includes_users, list_includes_tweets, list_includes_places, list_errors = reset_lists()\n",
    "            file = file + 1\n",
    "    if len(list_data)>0 or len(list_includes_tweets)>0:\n",
    "        save_data(list_data, list_includes_users, list_includes_tweets, list_includes_places, list_errors, i, file)\n",
    "    print(\"Finished query \"+str(i))"
   ]
  },
  {
   "cell_type": "code",
   "execution_count": null,
   "metadata": {},
   "outputs": [],
   "source": []
  },
  {
   "attachments": {
    "image.png": {
     "image/png": "[encoded data removed]"
    }
   },
   "cell_type": "markdown",
   "metadata": {},
   "source": [
    "## Important notes about the above code and useful links:\n",
    "- **Query parameters:** version 2 of Twitter API allows you to choose which fields/variables you want to retrieve, so you can change this by changing the query parameters dictionary, *query_params*. More info can be found in https://developer.twitter.com/en/docs/twitter-api/fields\n",
    "- **Number of requests**: Each endpoint has its own limits like maximum number of tweets retrieved per month and number of requests in a certain amount of time per app and per user. The GET /2/tweets/search/all endpoint allows you to do 300 requests per 15 minute time window which corresponds to 1 request every 3 seconds so I made my program sleep 3.2 seconds in between requests. You can have access to this information per endpoint signing in to your developer portal: https://developer.twitter.com/en/portal/products\n",
    "\n",
    "![image.png](attachment:image.png)\n",
    "\n",
    "- **Max number of pages in one json file**: you can save your data in one big json file, separate it in different json files or even store it directly in a database. For the purpose of this tutorial I'm storing data in json files with a json file contaning 25 pages worth of data. It does not mean that that's the best way of doing it, it probably depends on the scope of each work.\n",
    "\n",
    "- **Possible response codes**: https://developer.twitter.com/ja/docs/basics/response-codes\n",
    "\n",
    "- This code was inspired in Twitter's code that you can find here: https://github.com/twitterdev/Twitter-API-v2-sample-code/blob/main/Full-Archive-Search/full-archive-search.py\n",
    "- Twitter community forum is a great place to ask questions, I have used it myself a couple of times and always find it useful: https://twittercommunity.com/\n",
    "- Most information you will need to retrieve data from the the twitter API is scattered in https://developer.twitter.com/en/docs/twitter-api\n",
    "- In order to use this specific endpoint you need to have Academic Research Access: https://developer.twitter.com/en/products/twitter-api/academic-research\n",
    "- Info on how to build rules/queries can be found in: https://developer.twitter.com/en/docs/twitter-api/tweets/search/integrate/build-a-query"
   ]
  },
  {
   "cell_type": "code",
   "execution_count": null,
   "metadata": {},
   "outputs": [],
   "source": []
  }
 ],
 "metadata": {
  "kernelspec": {
   "display_name": "Python 3",
   "language": "python",
   "name": "python3"
  },
  "language_info": {
   "codemirror_mode": {
    "name": "ipython",
    "version": 3
   },
   "file_extension": ".py",
   "mimetype": "text/x-python",
   "name": "python",
   "nbconvert_exporter": "python",
   "pygments_lexer": "ipython3",
   "version": "3.7.3"
  }
 },
 "nbformat": 4,
 "nbformat_minor": 2
}
