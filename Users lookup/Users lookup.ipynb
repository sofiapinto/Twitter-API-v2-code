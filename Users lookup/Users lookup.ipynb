{
 "cells": [
  {
   "cell_type": "markdown",
   "metadata": {},
   "source": [
    "## *Purpose*\n",
    "\n",
    "The purpose of this jupyter notebook is to retrieve **user information** from **Twitter** using the **GET /2/users\n",
    "endpoint**. Important notes about the code and some helpful links can be found at the end of this notebook. By using this notebook one can understand the data retrieval process step by step. Otherwise, the .py script does the job, and just needs to be run in the command line or setting up a cronjob (if applicable)."
   ]
  },
  {
   "cell_type": "markdown",
   "metadata": {},
   "source": [
    "## Import packages"
   ]
  },
  {
   "cell_type": "code",
   "execution_count": 1,
   "metadata": {},
   "outputs": [],
   "source": [
    "import requests\n",
    "import json\n",
    "import time\n",
    "import pandas as pd\n",
    "import math"
   ]
  },
  {
   "cell_type": "code",
   "execution_count": null,
   "metadata": {},
   "outputs": [],
   "source": []
  },
  {
   "cell_type": "markdown",
   "metadata": {},
   "source": [
    "## Functions"
   ]
  },
  {
   "cell_type": "markdown",
   "metadata": {},
   "source": [
    "Function to create endpoint URL:\n",
    "\n",
    "- **user_IDs** need to be separated by commas without spaces and only up to 100\n",
    "\n",
    "e.g. \"6253282,783214\"\n",
    "\n",
    "- **fields** need to be separated by commas without spaces.\n",
    "The possible fields are: *id*, *username*, *name*, *created_at*, *description*, *location*, *entities*, *public_metrics*, *url*, *verified*, *pinned_tweet_id*, *profile_image_url*, *protected* and *withheld*."
   ]
  },
  {
   "cell_type": "code",
   "execution_count": 2,
   "metadata": {},
   "outputs": [],
   "source": [
    "def create_url(user_IDs, fields):\n",
    "    return \"https://api.twitter.com/2/users?ids={}&user.fields={}\".format(user_IDs, fields)"
   ]
  },
  {
   "cell_type": "markdown",
   "metadata": {},
   "source": [
    "Function to create headers using the bearer token:"
   ]
  },
  {
   "cell_type": "code",
   "execution_count": 3,
   "metadata": {},
   "outputs": [],
   "source": [
    "def create_headers(bearer_token):\n",
    "    headers = {\"Authorization\": \"Bearer {}\".format(bearer_token)}\n",
    "    return headers"
   ]
  },
  {
   "cell_type": "markdown",
   "metadata": {},
   "source": [
    "Sometimes when connecting to the endpoint there are errors. If the response code is 200, all is good. If the response yields a different status code then there was an error. I am printing these errors, but you can comment the print statements if you are not interested in knowing which type of error was yielded. When there is an error I make my program sleep between 5 and 60 seconds before trying again.\n",
    "\n",
    "More about response codes [here].\n",
    "\n",
    "[here]: https://developer.twitter.com/ja/docs/basics/response-codes"
   ]
  },
  {
   "cell_type": "code",
   "execution_count": 4,
   "metadata": {},
   "outputs": [],
   "source": [
    "def connect_to_endpoint(url, headers):\n",
    "    response = requests.request(\"GET\", url, headers=headers)\n",
    "    if response.status_code != 200:\n",
    "        print(response.status_code)\n",
    "        rn = random.randint(5,60)\n",
    "        print('Sleeping '+str(rn)+' seconds...')\n",
    "        time.sleep(rn)\n",
    "        return connect_to_endpoint(url, headers)\n",
    "    return response.json()"
   ]
  },
  {
   "cell_type": "markdown",
   "metadata": {},
   "source": [
    "Function to save data in a json file:"
   ]
  },
  {
   "cell_type": "code",
   "execution_count": 5,
   "metadata": {},
   "outputs": [],
   "source": [
    "def save_data(date, data, file_number):\n",
    "    with open('./data/users_info_'+date+'_file'+str(file_number)+'.json','w', encoding='utf8') as tf:\n",
    "        json.dump(data, tf, indent = 4, ensure_ascii = False)"
   ]
  },
  {
   "cell_type": "code",
   "execution_count": null,
   "metadata": {},
   "outputs": [],
   "source": []
  },
  {
   "cell_type": "markdown",
   "metadata": {},
   "source": [
    "## Setting up variables before retrieving data"
   ]
  },
  {
   "cell_type": "markdown",
   "metadata": {},
   "source": [
    "Date of data retrieval:\n",
    "\n",
    "*This might be important to take into consideration as the info you are retrieving about the users is the data at retrieval time. Hence it is subject to change.*"
   ]
  },
  {
   "cell_type": "code",
   "execution_count": 6,
   "metadata": {},
   "outputs": [],
   "source": [
    "date = '2022_March_25'"
   ]
  },
  {
   "cell_type": "markdown",
   "metadata": {},
   "source": [
    "Users information:\n",
    "\n",
    "*The dataframe contains the IDs of the users we want to retrieve information from.*\n",
    "\n",
    "For the purpose of this I chose IDs belonging to the following acounts:\n",
    "- 6253282 => @twitterapi\n",
    "\n",
    "- 783214 => @twitter\n",
    "\n",
    "- 2244994945 => @twitterdev \n",
    " \n",
    "- 17874544 => @twittersupport"
   ]
  },
  {
   "cell_type": "code",
   "execution_count": 7,
   "metadata": {},
   "outputs": [],
   "source": [
    "user_info = pd.read_pickle('author_IDs.pkl')"
   ]
  },
  {
   "cell_type": "code",
   "execution_count": 8,
   "metadata": {},
   "outputs": [
    {
     "data": {
      "text/html": [
       "<div>\n",
       "<style scoped>\n",
       "    .dataframe tbody tr th:only-of-type {\n",
       "        vertical-align: middle;\n",
       "    }\n",
       "\n",
       "    .dataframe tbody tr th {\n",
       "        vertical-align: top;\n",
       "    }\n",
       "\n",
       "    .dataframe thead th {\n",
       "        text-align: right;\n",
       "    }\n",
       "</style>\n",
       "<table border=\"1\" class=\"dataframe\">\n",
       "  <thead>\n",
       "    <tr style=\"text-align: right;\">\n",
       "      <th></th>\n",
       "      <th>author_id</th>\n",
       "    </tr>\n",
       "  </thead>\n",
       "  <tbody>\n",
       "    <tr>\n",
       "      <th>0</th>\n",
       "      <td>6253282</td>\n",
       "    </tr>\n",
       "    <tr>\n",
       "      <th>1</th>\n",
       "      <td>783214</td>\n",
       "    </tr>\n",
       "    <tr>\n",
       "      <th>2</th>\n",
       "      <td>2244994945</td>\n",
       "    </tr>\n",
       "    <tr>\n",
       "      <th>3</th>\n",
       "      <td>17874544</td>\n",
       "    </tr>\n",
       "  </tbody>\n",
       "</table>\n",
       "</div>"
      ],
      "text/plain": [
       "    author_id\n",
       "0     6253282\n",
       "1      783214\n",
       "2  2244994945\n",
       "3    17874544"
      ]
     },
     "execution_count": 8,
     "metadata": {},
     "output_type": "execute_result"
    }
   ],
   "source": [
    "user_info"
   ]
  },
  {
   "cell_type": "markdown",
   "metadata": {},
   "source": [
    "I'm adding a comma at the end of each ID because then I can use the sum() function to get all IDs in one string separated by commas, as they need to be when using the URL for data retrieval."
   ]
  },
  {
   "cell_type": "code",
   "execution_count": 9,
   "metadata": {},
   "outputs": [],
   "source": [
    "user_info['author_id'] = user_info['author_id']+','"
   ]
  },
  {
   "cell_type": "code",
   "execution_count": null,
   "metadata": {},
   "outputs": [],
   "source": []
  },
  {
   "cell_type": "markdown",
   "metadata": {},
   "source": [
    "Twitter API credentials. You just need to replace the XXX by your bearer token."
   ]
  },
  {
   "cell_type": "code",
   "execution_count": 10,
   "metadata": {},
   "outputs": [],
   "source": [
    "bearer_token = \"XXX\""
   ]
  },
  {
   "cell_type": "markdown",
   "metadata": {},
   "source": [
    "Headers:"
   ]
  },
  {
   "cell_type": "code",
   "execution_count": 11,
   "metadata": {},
   "outputs": [],
   "source": [
    "headers = create_headers(bearer_token)"
   ]
  },
  {
   "cell_type": "markdown",
   "metadata": {},
   "source": [
    "Setting up user fields we want to have access to:\n",
    "\n",
    "Remember that the possible fields are: *id*, *username*, *name*, *created_at*, *description*, *location*, *entities*, *public_metrics*, *url*, *verified*, *pinned_tweet_id*, *profile_image_url*, *protected* and *withheld*."
   ]
  },
  {
   "cell_type": "code",
   "execution_count": 12,
   "metadata": {},
   "outputs": [],
   "source": [
    "user_fields = 'id,username,name,created_at,description,location,public_metrics,url,verified'"
   ]
  },
  {
   "cell_type": "code",
   "execution_count": null,
   "metadata": {},
   "outputs": [],
   "source": []
  },
  {
   "cell_type": "markdown",
   "metadata": {},
   "source": [
    "## Retrieving data\n",
    "\n",
    "The following code is prepared for the cases where **user_info** has more than 100 user IDs. If that's the case one will have  data saved to more than 1 file, each file with info of a maximum of 100 users.\n",
    "\n",
    "When defining user IDs we apply sum() to get all IDs in one string separated by commas. With the example IDs above we get \"6253282,783214,2244994945,17874544,\". We then remove the last comma with the [:-1]."
   ]
  },
  {
   "cell_type": "code",
   "execution_count": 13,
   "metadata": {},
   "outputs": [],
   "source": [
    "for i in range(math.ceil(len(user_info)/100)):\n",
    "    if i != math.ceil(len(user_info)):\n",
    "        user_IDs = user_info['author_id'][i*100:(i+1)*100].sum()[:-1]\n",
    "    else:\n",
    "        user_IDs = user_info['author_id'][i*100:].sum()[:-1]\n",
    "    url = create_url(user_IDs, user_fields)\n",
    "    \n",
    "    json_response = connect_to_endpoint(url, headers)\n",
    "\n",
    "    save_data(date, json_response, i)\n",
    "    \n",
    "    #sleep for 3.2 seconds not to surpass the rate limit\n",
    "    time.sleep(3.2)"
   ]
  },
  {
   "cell_type": "code",
   "execution_count": null,
   "metadata": {},
   "outputs": [],
   "source": []
  },
  {
   "attachments": {
    "image.png": {
     "image/png": "[encoded data removed]"
    }
   },
   "cell_type": "markdown",
   "metadata": {},
   "source": [
    "## Important notes about the above code and useful links:\n",
    "- **Number of requests**: Each endpoint has its own limits. The GET /2/users endpoint allows you to do 300 requests per 15 minute time window which corresponds to 1 request every 3 seconds so I made my program sleep 3.2 seconds in between requests. You can have access to this information per endpoint signing in to your developer portal: https://developer.twitter.com/en/portal/products\n",
    "\n",
    "![image.png](attachment:image.png)\n",
    "\n",
    "- **Possible response codes**: https://developer.twitter.com/ja/docs/basics/response-codes\n",
    "\n",
    "- This code was inspired in Twitter's code that you can find here: https://github.com/twitterdev/Twitter-API-v2-sample-code/blob/main/User-Lookup/get_users_with_bearer_token.py\n",
    "- Twitter community forum is a great place to ask questions, I have used it myself a couple of times and always find it useful: https://twittercommunity.com/\n",
    "- Most information you will need to retrieve data from the the twitter API is scattered in https://developer.twitter.com/en/docs/twitter-api"
   ]
  },
  {
   "cell_type": "code",
   "execution_count": null,
   "metadata": {},
   "outputs": [],
   "source": []
  }
 ],
 "metadata": {
  "kernelspec": {
   "display_name": "Python 3",
   "language": "python",
   "name": "python3"
  },
  "language_info": {
   "codemirror_mode": {
    "name": "ipython",
    "version": 3
   },
   "file_extension": ".py",
   "mimetype": "text/x-python",
   "name": "python",
   "nbconvert_exporter": "python",
   "pygments_lexer": "ipython3",
   "version": "3.7.3"
  }
 },
 "nbformat": 4,
 "nbformat_minor": 5
}
